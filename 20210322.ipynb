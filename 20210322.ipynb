{
  "nbformat": 4,
  "nbformat_minor": 0,
  "metadata": {
    "colab": {
      "name": "20210322.ipynb",
      "provenance": [],
      "collapsed_sections": [],
      "authorship_tag": "ABX9TyOQGlOdfSpMcx1tvFec26SK",
      "include_colab_link": true
    },
    "kernelspec": {
      "name": "python3",
      "display_name": "Python 3"
    },
    "language_info": {
      "name": "python"
    }
  },
  "cells": [
    {
      "cell_type": "markdown",
      "metadata": {
        "id": "view-in-github",
        "colab_type": "text"
      },
      "source": [
        "<a href=\"https://colab.research.google.com/github/letme-hj/class2021Spring/blob/main/20210322.ipynb\" target=\"_parent\"><img src=\"https://colab.research.google.com/assets/colab-badge.svg\" alt=\"Open In Colab\"/></a>"
      ]
    },
    {
      "cell_type": "code",
      "metadata": {
        "id": "gdsGM2Q4P6M4"
      },
      "source": [
        "# 일차함수\n",
        "def func1(x, a, b):\n",
        "  y = a*x + b\n",
        "  return y\n",
        "\n",
        "# 이차함수\n",
        "def func2(x, a, b, c):\n",
        "  y = a*x**2 + b*x + c\n",
        "  return y\n"
      ],
      "execution_count": null,
      "outputs": []
    }
  ]
}