{
  "nbformat": 4,
  "nbformat_minor": 0,
  "metadata": {
    "colab": {
      "name": "20210322.ipynb",
      "provenance": [],
      "collapsed_sections": [],
      "authorship_tag": "ABX9TyPFWMahHzS/JfXox/I/Bv9n",
      "include_colab_link": true
    },
    "kernelspec": {
      "name": "python3",
      "display_name": "Python 3"
    },
    "language_info": {
      "name": "python"
    }
  },
  "cells": [
    {
      "cell_type": "markdown",
      "metadata": {
        "id": "view-in-github",
        "colab_type": "text"
      },
      "source": [
        "<a href=\"https://colab.research.google.com/github/letme-hj/class2021Spring/blob/main/20210322.ipynb\" target=\"_parent\"><img src=\"https://colab.research.google.com/assets/colab-badge.svg\" alt=\"Open In Colab\"/></a>"
      ]
    },
    {
      "cell_type": "code",
      "metadata": {
        "id": "gdsGM2Q4P6M4"
      },
      "source": [
        "# 일차함수\n",
        "def func1(x, a, b):\n",
        "  y = a*x + b\n",
        "  return y\n",
        "\n",
        "# 이차함수 (y = ax^2 + bx +c)\n",
        "def func2(x, a, b, c):\n",
        "  y = a*x**2 + b*x + c\n",
        "  return y\n",
        "\n",
        "# 이차함수 (그래프의 꼭짓점 활용: y = a(x-p)^2 + q)\n",
        "def func2_(x, a, p, q):\n",
        "  y = (a-p)**2 + q\n",
        "  return y\n",
        "  "
      ],
      "execution_count": 4,
      "outputs": []
    },
    {
      "cell_type": "code",
      "metadata": {
        "colab": {
          "base_uri": "https://localhost:8080/"
        },
        "id": "LZB0uyViY4yk",
        "outputId": "709300f4-d758-42cc-c596-654a902b61ae"
      },
      "source": [
        "func2(2, 1, 1, 1)"
      ],
      "execution_count": 3,
      "outputs": [
        {
          "output_type": "execute_result",
          "data": {
            "text/plain": [
              "7"
            ]
          },
          "metadata": {
            "tags": []
          },
          "execution_count": 3
        }
      ]
    },
    {
      "cell_type": "code",
      "metadata": {
        "colab": {
          "base_uri": "https://localhost:8080/"
        },
        "id": "qSACIRkPY8S1",
        "outputId": "193b1558-1578-4303-b55b-fad5a8924955"
      },
      "source": [
        "# 수업 예시 문제\n",
        "print(func2(5, 1, -2, 3))\n",
        "print(func2_(5, 1, -2, 3))"
      ],
      "execution_count": 6,
      "outputs": [
        {
          "output_type": "stream",
          "text": [
            "18\n",
            "12\n"
          ],
          "name": "stdout"
        }
      ]
    },
    {
      "cell_type": "code",
      "metadata": {
        "id": "qdH4rKCVZ9LL"
      },
      "source": [
        ""
      ],
      "execution_count": null,
      "outputs": []
    }
  ]
}