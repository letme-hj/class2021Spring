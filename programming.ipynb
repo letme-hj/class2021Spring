{
  "nbformat": 4,
  "nbformat_minor": 0,
  "metadata": {
    "colab": {
      "name": "programming.ipynb",
      "provenance": [],
      "authorship_tag": "ABX9TyOQU2fvemAFAZQIeHL9ePHy",
      "include_colab_link": true
    },
    "kernelspec": {
      "name": "python3",
      "display_name": "Python 3"
    }
  },
  "cells": [
    {
      "cell_type": "markdown",
      "metadata": {
        "id": "view-in-github",
        "colab_type": "text"
      },
      "source": [
        "<a href=\"https://colab.research.google.com/github/letme-hj/class2021Spring/blob/main/programming.ipynb\" target=\"_parent\"><img src=\"https://colab.research.google.com/assets/colab-badge.svg\" alt=\"Open In Colab\"/></a>"
      ]
    },
    {
      "cell_type": "code",
      "metadata": {
        "id": "uW4OGdbahui7"
      },
      "source": [
        ""
      ],
      "execution_count": null,
      "outputs": []
    },
    {
      "cell_type": "markdown",
      "metadata": {
        "id": "BfbC9cbUhvo9"
      },
      "source": [
        "# Programming Language\r\n",
        "사람의 언어: 단어 + 문법\r\n",
        "\r\n",
        "컴퓨터 언어: 변수 + 제어문 + 함수\r\n",
        "\r\n",
        "\r\n",
        "### **변수**\r\n",
        "인간의 언어: **'단어'**에 임의의 의미 associate\r\n",
        "\r\n",
        "컴퓨터 언어: **'variable'**에 특정 값 assign\r\n",
        "\r\n",
        "ex) a = 1 (오른쪽 내용을 왼쪽 variable에 assign)\r\n",
        "\r\n",
        "\r\n",
        "\r\n",
        "### **제어문**\r\n",
        "문법 in programming: **제어문**\r\n",
        "\r\n",
        "1. 반복 (for)\r\n",
        "2. 조건 (if)\r\n",
        "\r\n",
        "### **함수**\r\n",
        "- 함수: 입출력 관계 (입력 -- 변화 --> 출력)\r\n",
        "$$y=f(x)$$\r\n",
        "input이 어떤 특정한 변화를 거쳐 output이 됨. 그 '변화'에 해당하는 것이 function(함수)\r\n",
        "\r\n",
        "ex)\r\n",
        "- 일차함수: $y = ax + b$ (입력: $x$, 출력: $y$)\r\n",
        "- 인간의 몸: 소리(입력) --> 의미(출력)\r\n",
        "- 컴퓨터, 자동차 등\r\n",
        "\r\n",
        "\r\n",
        "\r\n",
        "\r\n",
        "\r\n",
        "\r\n",
        "\r\n"
      ]
    },
    {
      "cell_type": "code",
      "metadata": {
        "id": "Y1h8AiYyppgw"
      },
      "source": [
        ""
      ],
      "execution_count": null,
      "outputs": []
    }
  ]
}