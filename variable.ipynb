{
  "nbformat": 4,
  "nbformat_minor": 0,
  "metadata": {
    "colab": {
      "name": "variable.ipynb",
      "provenance": [],
      "authorship_tag": "ABX9TyNCWEx9ukrzc/NTpTUp5U37",
      "include_colab_link": true
    },
    "kernelspec": {
      "name": "python3",
      "display_name": "Python 3"
    }
  },
  "cells": [
    {
      "cell_type": "markdown",
      "metadata": {
        "id": "view-in-github",
        "colab_type": "text"
      },
      "source": [
        "<a href=\"https://colab.research.google.com/github/letme-hj/class2021Spring/blob/main/variable.ipynb\" target=\"_parent\"><img src=\"https://colab.research.google.com/assets/colab-badge.svg\" alt=\"Open In Colab\"/></a>"
      ]
    },
    {
      "cell_type": "markdown",
      "metadata": {
        "id": "fi14nuZai1Y-"
      },
      "source": [
        "## **Variable**\r\n",
        "You can assign values to variables.\r\n",
        "There are several types for the variable (or value).\r\n",
        "<br>\r\n",
        "### **Types**\r\n",
        "\r\n",
        "- **int** (integer)\r\n",
        "- **float**\r\n",
        "- **str** (string)\r\n",
        "- **list** (and the elements of a list can be any type) -> mutable\r\n",
        "- **tuple** (and the elements of a tuple can be any type) -> immutable\r\n",
        "- **dict**\r\n",
        "---\r\n",
        "- **Type check** : `type(var/val)`<br>\r\n",
        "- **Type conversion** : `int(a)`, `list(b)`, etc.<br>\r\n",
        "int -> float / float -> int (when converting float to int, the fractional part of the number is dropped)<br>\r\n",
        "int -> str / float -> str<br>\r\n",
        "str -> int / str -> float (only when str is sequence of NUMBERS)<br>\r\n",
        "str -> list, tuple<br>\r\n",
        "list -> str, tuple<br>\r\n",
        "tuple -> str, list<br>\r\n",
        "---"
      ]
    },
    {
      "cell_type": "code",
      "metadata": {
        "colab": {
          "base_uri": "https://localhost:8080/"
        },
        "id": "_cvRTqH9m-Ez",
        "outputId": "4e124afd-b41c-41cd-8cc9-e132085b21a8"
      },
      "source": [
        "# types and type check\r\n",
        "a = 1\r\n",
        "b = 1.0\r\n",
        "c = 'string'\r\n",
        "d = ['list', 1, 2, '4']\r\n",
        "e = ('list', 1, 2, '4')\r\n",
        "print(a); print(type(a))\r\n",
        "print(b); print(type(b))\r\n",
        "print(c); print(type(c))\r\n",
        "print(d); print(type(d))\r\n",
        "print(e); print(type(e))"
      ],
      "execution_count": 2,
      "outputs": [
        {
          "output_type": "stream",
          "text": [
            "1\n",
            "<class 'int'>\n",
            "1.0\n",
            "<class 'float'>\n",
            "string\n",
            "<class 'str'>\n",
            "['list', 1, 2, '4']\n",
            "<class 'list'>\n",
            "('list', 1, 2, '4')\n",
            "<class 'tuple'>\n"
          ],
          "name": "stdout"
        }
      ]
    },
    {
      "cell_type": "code",
      "metadata": {
        "colab": {
          "base_uri": "https://localhost:8080/"
        },
        "id": "qvRdXS0SpcC5",
        "outputId": "c3b030aa-021c-463a-ed84-4a3293ec178a"
      },
      "source": [
        "# type conversion\r\n",
        "a_ = float(a) # int - float\r\n",
        "a__ = str(a)  # int - str\r\n",
        "b_ = int(b)   # float - int\r\n",
        "b__ = str(b)  # float - str\r\n",
        "c_ = list(c)  # str - list\r\n",
        "d_ = tuple(d) # list - tuple\r\n",
        "d__ = str(d)  # list - str\r\n",
        "e_ = str(e)   # tuple - str\r\n",
        "\r\n",
        "aa = int(a__)\r\n",
        "aaa = float(a__)\r\n",
        "bb = float(b__)\r\n",
        "# bbb = int(b__) -> error\r\n",
        "\r\n",
        "#========\r\n",
        "print(type(a),'to', type(a_), '\\tresult:',a_)\r\n",
        "print(type(a),'to', type(a__), '\\t\\tresult:',a__)\r\n",
        "print(type(b),'to', type(b_), '\\tresult:',b_)\r\n",
        "print(type(b),'to', type(b__), '\\tresult:',b__) # 숫자형(int, float)도 str으로 변환 가능 (숫자 str도 int/float로 변환 가능)\r\n",
        "print(type(c),'to', type(c_), '\\tresult:',c_)\r\n",
        "print(type(d),'to', type(d_), '\\tresult:',d_)\r\n",
        "print(type(d),'to', type(d__), '\\tresult:',d__) # list, tuple을 str으로 바꿀 때에는 괄호, comma, quotation mark 모두 포함해 저장\r\n",
        "print(type(e),'to', type(e_), '\\tresult:',e_)\r\n",
        "print('str to int/float: ',type(aa), type(aaa), type(bb))"
      ],
      "execution_count": 13,
      "outputs": [
        {
          "output_type": "stream",
          "text": [
            "<class 'int'> to <class 'float'> \tresult: 1.0\n",
            "<class 'int'> to <class 'str'> \t\tresult: 1\n",
            "<class 'float'> to <class 'int'> \tresult: 1\n",
            "<class 'float'> to <class 'str'> \tresult: 1.0\n",
            "<class 'str'> to <class 'list'> \tresult: ['s', 't', 'r', 'i', 'n', 'g']\n",
            "<class 'list'> to <class 'tuple'> \tresult: ('list', 1, 2, '4')\n",
            "<class 'list'> to <class 'str'> \tresult: ['list', 1, 2, '4']\n",
            "<class 'tuple'> to <class 'str'> \tresult: ('list', 1, 2, '4')\n",
            "str to int/float:  <class 'int'> <class 'float'> <class 'float'>\n"
          ],
          "name": "stdout"
        }
      ]
    },
    {
      "cell_type": "markdown",
      "metadata": {
        "id": "aMIK_k0huuRP"
      },
      "source": [
        "### **Index**\r\n",
        "You can access an element in a sequence data with its index.<br>\r\n",
        "- (left) starts from 0<br>\r\n",
        "(right) starts from -1<br>\r\n",
        "ex. a[1], a[-1]\r\n",
        " \r\n",
        "**Slicing**<br>\r\n",
        "> can be used with sequence data types<br>\r\n",
        "> [n:m] -> index n ~ m-1<br>\r\n",
        "> ex. a[2:6]"
      ]
    },
    {
      "cell_type": "code",
      "metadata": {
        "colab": {
          "base_uri": "https://localhost:8080/"
        },
        "id": "9RvkCAaTp31a",
        "outputId": "bf27452c-30ea-4246-e870-ae6ebafb41b8"
      },
      "source": [
        "# indexing _ list\r\n",
        "a = [1,2,3,4]\r\n",
        "print('list indexing')\r\n",
        "print('a[0]: {}'.format(a[0]))\r\n",
        "print('a[-1]: {}'.format(a[-1]))"
      ],
      "execution_count": 19,
      "outputs": [
        {
          "output_type": "stream",
          "text": [
            "list indexing\n",
            "a[0]: 1\n",
            "a[-1]: 4\n"
          ],
          "name": "stdout"
        }
      ]
    },
    {
      "cell_type": "code",
      "metadata": {
        "colab": {
          "base_uri": "https://localhost:8080/"
        },
        "id": "n-bBYH2w18v9",
        "outputId": "eaa33042-7884-4f79-df23-c1f086d67a33"
      },
      "source": [
        "# indexing _ tuple\r\n",
        "b = (5,'6',7,[8,9])\r\n",
        "print('tuple indexing')\r\n",
        "print('b[0]: {}'.format(b[0]))\r\n",
        "print('b[-1]: {}'.format(b[-1]))\r\n",
        "print('double indexing? b[-1][0]: {}'.format(b[-1][0]))"
      ],
      "execution_count": 20,
      "outputs": [
        {
          "output_type": "stream",
          "text": [
            "tuple indexing\n",
            "b[0]: 5\n",
            "b[-1]: [8, 9]\n",
            "double indexing? b[-1][0]: 8\n"
          ],
          "name": "stdout"
        }
      ]
    },
    {
      "cell_type": "code",
      "metadata": {
        "colab": {
          "base_uri": "https://localhost:8080/"
        },
        "id": "q1pGYLOR2Zcm",
        "outputId": "5d5dd5a9-735a-41d9-bead-b319becaa495"
      },
      "source": [
        "# indexing _ string\r\n",
        "c = 'abcde2'\r\n",
        "print('string indexing')\r\n",
        "print('c[0]: {}'.format(c[0]))\r\n",
        "print('c[-1]: {}'.format(c[-1]))\r\n",
        "print('c[2:5]: {}'.format(c[2:5]))"
      ],
      "execution_count": 21,
      "outputs": [
        {
          "output_type": "stream",
          "text": [
            "string indexing\n",
            "c[0]: a\n",
            "c[-1]: 2\n",
            "c[2:5]: cde\n"
          ],
          "name": "stdout"
        }
      ]
    },
    {
      "cell_type": "markdown",
      "metadata": {
        "id": "czbDom533mvS"
      },
      "source": [
        "<br>\r\n",
        "\r\n",
        "### Type _ **Dictionary**\r\n",
        "Dictionary is sequence data, but it has **named indexes** instead of ordered indexes (as list and tuple have)<br>\r\n",
        "\r\n",
        "`{a: b, c: d}`\r\n",
        "- the named indexes of dictionaries are on the left side of `:`s, and is called, **'Key'**s<br>\r\n",
        "`a`, `c` are the keys\r\n",
        "- the right side of each `:` is called **'Value'**s<br>\r\n",
        "`b`, `d` are the values"
      ]
    },
    {
      "cell_type": "markdown",
      "metadata": {
        "id": "j4lRWEJi7j_j"
      },
      "source": [
        "---\r\n",
        "*only immutable data types can be a key*"
      ]
    },
    {
      "cell_type": "code",
      "metadata": {
        "colab": {
          "base_uri": "https://localhost:8080/"
        },
        "id": "JpkOk5fs29Pf",
        "outputId": "0e7cc86d-1714-43a1-c38e-0f7311bf4ba6"
      },
      "source": [
        "dic = {'a': 'apple', 'b': 'banana', 'c': 'cocacola'} # string can be a key\r\n",
        "dic2 = {1: 2, 2: 3, 3: 4} # integer can be a key\r\n",
        "var1 = 1\r\n",
        "dic3 = {var1: 2, 3: 2, 'c': 'cocacola'} # can use variable as a key\r\n",
        "dic4 = {(1,2): 3, 3: 2, 'c': 'cocacola'} # tuple can be a key\r\n",
        "# dic5 = {[1,2]: 3, 3: 2, 'c': 'cocacola'} # list CANNOT be a key -> error\r\n",
        "\r\n",
        "print(type(dic))\r\n",
        "print(type(dic2))\r\n",
        "print(dic3.keys())\r\n",
        "print(dic4.keys())"
      ],
      "execution_count": 33,
      "outputs": [
        {
          "output_type": "stream",
          "text": [
            "<class 'dict'>\n",
            "<class 'dict'>\n",
            "dict_keys([1, 3, 'c'])\n",
            "dict_keys([(1, 2), 3, 'c'])\n"
          ],
          "name": "stdout"
        }
      ]
    },
    {
      "cell_type": "markdown",
      "metadata": {
        "id": "SWQJobB67zQI"
      },
      "source": [
        "---\r\n",
        "*use keys for indexing*"
      ]
    },
    {
      "cell_type": "code",
      "metadata": {
        "colab": {
          "base_uri": "https://localhost:8080/"
        },
        "id": "QuQid-MV6L-X",
        "outputId": "a93c5ee7-94a3-41f9-bdad-ca17a00dd892"
      },
      "source": [
        "# indexing _ dictionary\r\n",
        "# dic[2] -> error\r\n",
        "print(\"dic['a']: \",dic['a'])\r\n",
        "# print(\"dic['a':'c']: \", dic['a':'c']) -> slicing 불가능 (not an ordered data)"
      ],
      "execution_count": 35,
      "outputs": [
        {
          "output_type": "stream",
          "text": [
            "dic['a']:  apple\n"
          ],
          "name": "stdout"
        }
      ]
    },
    {
      "cell_type": "code",
      "metadata": {
        "id": "i6sVSvmA6R0h"
      },
      "source": [
        ""
      ],
      "execution_count": null,
      "outputs": []
    }
  ]
}