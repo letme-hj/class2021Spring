{
  "nbformat": 4,
  "nbformat_minor": 0,
  "metadata": {
    "colab": {
      "name": "module_during_class.ipynb",
      "provenance": [],
      "authorship_tag": "ABX9TyNTpqxtNjCj/3ue78s0bwGy",
      "include_colab_link": true
    },
    "kernelspec": {
      "name": "python3",
      "display_name": "Python 3"
    },
    "language_info": {
      "name": "python"
    }
  },
  "cells": [
    {
      "cell_type": "markdown",
      "metadata": {
        "id": "view-in-github",
        "colab_type": "text"
      },
      "source": [
        "<a href=\"https://colab.research.google.com/github/letme-hj/class2021Spring/blob/main/module_during_class.ipynb\" target=\"_parent\"><img src=\"https://colab.research.google.com/assets/colab-badge.svg\" alt=\"Open In Colab\"/></a>"
      ]
    },
    {
      "cell_type": "markdown",
      "metadata": {
        "id": "uUXbFw5QbZIc"
      },
      "source": [
        "### **Class** \n",
        "(**OOP**. Object Oriented Programming)"
      ]
    },
    {
      "cell_type": "code",
      "metadata": {
        "id": "er7221aibWpZ"
      },
      "source": [
        "class cal: # class 선언\n",
        "  def __init__(self): # self: 이 class가 만들어내는 자기 자신을 의미하는 변수. 해당 class 객체 처음 생성할 때, 여기에 있는 내용 자동으로 생성됨\n",
        "  # 초기화가 필요하지 않을 때는 init 부분을 안 써도 되긴 함\n",
        "    self.result = 0 # result가 변수\n",
        "  def add(self, n): # n은 새로운 입력.\n",
        "    self.result += n\n",
        "    return self.result"
      ],
      "execution_count": 4,
      "outputs": []
    },
    {
      "cell_type": "code",
      "metadata": {
        "colab": {
          "base_uri": "https://localhost:8080/"
        },
        "id": "tklvLufKbwX4",
        "outputId": "26b80d35-a98d-4c4e-d2a4-58cf2137b26f"
      },
      "source": [
        "A = cal() # A라는 새로운 객체\n",
        "A.result"
      ],
      "execution_count": 9,
      "outputs": [
        {
          "output_type": "execute_result",
          "data": {
            "text/plain": [
              "0"
            ]
          },
          "metadata": {
            "tags": []
          },
          "execution_count": 9
        }
      ]
    },
    {
      "cell_type": "code",
      "metadata": {
        "colab": {
          "base_uri": "https://localhost:8080/"
        },
        "id": "uQ0YMqFdcoiI",
        "outputId": "1d704253-ddcb-4283-aa5e-4244ab409030"
      },
      "source": [
        "A.add(4)"
      ],
      "execution_count": 10,
      "outputs": [
        {
          "output_type": "execute_result",
          "data": {
            "text/plain": [
              "4"
            ]
          },
          "metadata": {
            "tags": []
          },
          "execution_count": 10
        }
      ]
    },
    {
      "cell_type": "code",
      "metadata": {
        "colab": {
          "base_uri": "https://localhost:8080/"
        },
        "id": "rMQpBQzGcqr-",
        "outputId": "c61a534e-4c27-4f6d-e5d8-2fe8467b0792"
      },
      "source": [
        "A.add(6) # 계속 A에 accumulate 됨"
      ],
      "execution_count": 11,
      "outputs": [
        {
          "output_type": "execute_result",
          "data": {
            "text/plain": [
              "10"
            ]
          },
          "metadata": {
            "tags": []
          },
          "execution_count": 11
        }
      ]
    },
    {
      "cell_type": "code",
      "metadata": {
        "colab": {
          "base_uri": "https://localhost:8080/"
        },
        "id": "M6gdPm5YdK_C",
        "outputId": "f61d8bea-e702-4980-dc22-eb544a6e8633"
      },
      "source": [
        "B = cal()\n",
        "B.result"
      ],
      "execution_count": 12,
      "outputs": [
        {
          "output_type": "execute_result",
          "data": {
            "text/plain": [
              "0"
            ]
          },
          "metadata": {
            "tags": []
          },
          "execution_count": 12
        }
      ]
    },
    {
      "cell_type": "markdown",
      "metadata": {
        "id": "RWpI20n-dzTu"
      },
      "source": [
        "### **Module**\n",
        "\n"
      ]
    },
    {
      "cell_type": "code",
      "metadata": {
        "id": "jqt03q7_dgqD"
      },
      "source": [
        "class cal:\n",
        "  def __init__(self):\n",
        "    self.result = 0\n",
        "  def add(self, n):\n",
        "    self.result += n\n",
        "    return self.result"
      ],
      "execution_count": null,
      "outputs": []
    },
    {
      "cell_type": "code",
      "metadata": {
        "id": "PJUnksjxel0b"
      },
      "source": [
        "def func(a, b, x):\n",
        "  y = a*x + b\n",
        "  return y"
      ],
      "execution_count": null,
      "outputs": []
    },
    {
      "cell_type": "markdown",
      "metadata": {
        "id": "TiKx_l1yerll"
      },
      "source": [
        "위와 같이 class, 함수 정의를 모아둔 파일 (파일명 확장자는 .ipynb가 아니라 .py여야 함)\n",
        "\n",
        "모듈이란 함수나 변수 또는 클래스를 모아 놓은 파일이다. 다른 파이썬 프로그램에서 불러와 사용할 수 있게 만든 파이썬 파일이라고도 할 수 있다."
      ]
    },
    {
      "cell_type": "markdown",
      "metadata": {
        "id": "2JOdkyQjfL9-"
      },
      "source": [
        "### 패키지\n",
        "\n",
        "- module: .py로, class, function 모아둔 파일\n",
        "- package: module 파일 여러개를 한 폴더에 넣어놓을 수도 있음. 그 폴더를 또 다 합쳐서 하나의 폴더에 넣을 수도 있고. 이것들이 package가 됨 (folder)"
      ]
    },
    {
      "cell_type": "code",
      "metadata": {
        "id": "tXS0M-eZfKSO"
      },
      "source": [
        ""
      ],
      "execution_count": null,
      "outputs": []
    }
  ]
}