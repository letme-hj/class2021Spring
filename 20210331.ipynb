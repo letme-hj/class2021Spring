{
  "nbformat": 4,
  "nbformat_minor": 0,
  "metadata": {
    "colab": {
      "name": "20210331.ipynb",
      "provenance": [],
      "authorship_tag": "ABX9TyPrj8HKdND1hyBtlUrRbFAR",
      "include_colab_link": true
    },
    "kernelspec": {
      "name": "python3",
      "display_name": "Python 3"
    },
    "language_info": {
      "name": "python"
    }
  },
  "cells": [
    {
      "cell_type": "markdown",
      "metadata": {
        "id": "view-in-github",
        "colab_type": "text"
      },
      "source": [
        "<a href=\"https://colab.research.google.com/github/letme-hj/class2021Spring/blob/main/20210331.ipynb\" target=\"_parent\"><img src=\"https://colab.research.google.com/assets/colab-badge.svg\" alt=\"Open In Colab\"/></a>"
      ]
    },
    {
      "cell_type": "markdown",
      "metadata": {
        "id": "xR0vJTBL45aO"
      },
      "source": [
        "**a**<br>\n",
        "duration: 506 msec<br>\n",
        "pitch: 222.6 Hz <br>\n",
        "intensity: 77.56 dB<br>\n",
        "formant: 1096 Hz, 1670 Hz<br>\n",
        "\n",
        "**e**<br>\n",
        "duration: 480 msec<br>\n",
        "pitch: 209.6 Hz<br>\n",
        "intensity: 73.67 dB<br>\n",
        "formant: 598.8 Hz, 2340 Hz<br>"
      ]
    }
  ]
}