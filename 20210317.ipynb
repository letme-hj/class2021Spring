{
  "nbformat": 4,
  "nbformat_minor": 0,
  "metadata": {
    "colab": {
      "name": "20210317.ipynb",
      "provenance": [],
      "authorship_tag": "ABX9TyPJxJL4kRBSpnsDnDgHCQKs",
      "include_colab_link": true
    },
    "kernelspec": {
      "name": "python3",
      "display_name": "Python 3"
    }
  },
  "cells": [
    {
      "cell_type": "markdown",
      "metadata": {
        "id": "view-in-github",
        "colab_type": "text"
      },
      "source": [
        "<a href=\"https://colab.research.google.com/github/letme-hj/class2021Spring/blob/main/20210317.ipynb\" target=\"_parent\"><img src=\"https://colab.research.google.com/assets/colab-badge.svg\" alt=\"Open In Colab\"/></a>"
      ]
    },
    {
      "cell_type": "code",
      "metadata": {
        "colab": {
          "base_uri": "https://localhost:8080/"
        },
        "id": "0ryicMY7uSNH",
        "outputId": "a4c18d49-18a4-4c06-f638-dc0895acb77b"
      },
      "source": [
        "# 1번\r\n",
        "a = ['b', 'e', 's', 't']\r\n",
        "b = [0, 'b', 'a', 's', 'e', 2, 3]\r\n",
        "\r\n",
        "for i in a:\r\n",
        "  for j in b:\r\n",
        "    if i == j:\r\n",
        "      print ('{} and {} are the same element!'.format(i,j))"
      ],
      "execution_count": 1,
      "outputs": [
        {
          "output_type": "stream",
          "text": [
            "b and b are the same element!\n",
            "e and e are the same element!\n",
            "s and s are the same element!\n"
          ],
          "name": "stdout"
        }
      ]
    },
    {
      "cell_type": "code",
      "metadata": {
        "colab": {
          "base_uri": "https://localhost:8080/"
        },
        "id": "wxroWw-euxOp",
        "outputId": "5319e253-3954-4abe-8bdc-d8fafdc4a08d"
      },
      "source": [
        "# 2번\r\n",
        "lst = [a, b]\r\n",
        "lst2 = [i if len(i) == 4 else len(i) for i in lst ]\r\n",
        "lst3 = [i for i in lst if len(i) == 4]\r\n",
        "# lst4 = [i if len(i) == 4 for i in lst]\r\n",
        "print(lst2)\r\n",
        "print(lst3)"
      ],
      "execution_count": 9,
      "outputs": [
        {
          "output_type": "stream",
          "text": [
            "[['b', 'e', 's', 't'], 7]\n",
            "[['b', 'e', 's', 't']]\n"
          ],
          "name": "stdout"
        }
      ]
    },
    {
      "cell_type": "code",
      "metadata": {
        "id": "jB4ohrFdvO3B"
      },
      "source": [
        ""
      ],
      "execution_count": null,
      "outputs": []
    }
  ]
}