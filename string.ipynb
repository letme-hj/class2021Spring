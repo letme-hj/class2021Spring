{
  "nbformat": 4,
  "nbformat_minor": 0,
  "metadata": {
    "colab": {
      "name": "string.ipynb",
      "provenance": [],
      "collapsed_sections": [],
      "authorship_tag": "ABX9TyP42IStIB1bvpof0kHCzry7",
      "include_colab_link": true
    },
    "kernelspec": {
      "name": "python3",
      "display_name": "Python 3"
    }
  },
  "cells": [
    {
      "cell_type": "markdown",
      "metadata": {
        "id": "view-in-github",
        "colab_type": "text"
      },
      "source": [
        "<a href=\"https://colab.research.google.com/github/letme-hj/class2021Spring/blob/main/string.ipynb\" target=\"_parent\"><img src=\"https://colab.research.google.com/assets/colab-badge.svg\" alt=\"Open In Colab\"/></a>"
      ]
    },
    {
      "cell_type": "markdown",
      "metadata": {
        "id": "P6K-Tf6N85J5"
      },
      "source": [
        "## **String**\r\n",
        "string is a crucial data type, especially when dealing with text datas. (Strongly related to the field of NLP)\r\n",
        "\r\n"
      ]
    },
    {
      "cell_type": "code",
      "metadata": {
        "colab": {
          "base_uri": "https://localhost:8080/"
        },
        "id": "kWGUZK2X82C4",
        "outputId": "1c738658-bffe-4edf-824d-dce7a27318d6"
      },
      "source": [
        "# indexing\r\n",
        "a = 'I like NLP'\r\n",
        "print('a[0]: {}'.format(a[0]))\r\n",
        "print(\"a[2:7]: {}\".format(a[2:7]))\r\n",
        "print(\"a[3:-3]: {}\".format(a[3:-3]))\r\n",
        "print(\"a[3:]: {}\".format(a[3:]))\r\n",
        "print(\"a[:]: {}\".format(a[:]))"
      ],
      "execution_count": 6,
      "outputs": [
        {
          "output_type": "stream",
          "text": [
            "a[0]: I\n",
            "a[2:7]: like \n",
            "a[3:-3]: ike \n",
            "a[3:]: ike NLP\n",
            "a[:]: I like NLP\n"
          ],
          "name": "stdout"
        }
      ]
    },
    {
      "cell_type": "markdown",
      "metadata": {
        "id": "cRvNl7K_RZxO"
      },
      "source": [
        "### **len(x)**\r\n",
        "`len(x)` returns the lenght of `x` (in integer type)<br>\r\n",
        "can be applied to any squence data type (list, tuple, dict, str...)"
      ]
    },
    {
      "cell_type": "code",
      "metadata": {
        "colab": {
          "base_uri": "https://localhost:8080/"
        },
        "id": "VghMSuc0Myqp",
        "outputId": "e672819d-c687-40a0-fdb6-0ce5e9d68b80"
      },
      "source": [
        "# len(x)\r\n",
        "a = 'hello there!'\r\n",
        "b = [2, 5, 24, '72']\r\n",
        "c = (3, 1, 24, 6)\r\n",
        "d = {'a': 'b', 'c': 'd'}\r\n",
        "\r\n",
        "print('lenght of a (len(a)): {}'.format(len(a)))\r\n",
        "print('lenght of a (len(b)): {}'.format(len(b)))\r\n",
        "print('lenght of a (len(c)): {}'.format(len(c)))\r\n",
        "print('lenght of a (len(d)): {}'.format(len(d)))\r\n"
      ],
      "execution_count": 8,
      "outputs": [
        {
          "output_type": "stream",
          "text": [
            "lenght of a (len(a)): 12\n",
            "lenght of a (len(b)): 4\n",
            "lenght of a (len(c)): 4\n",
            "lenght of a (len(d)): 2\n"
          ],
          "name": "stdout"
        }
      ]
    },
    {
      "cell_type": "markdown",
      "metadata": {
        "id": "TMP1DYaWyQBD"
      },
      "source": [
        "### **Useful string methods**\r\n",
        "\r\n",
        "**.upper/.lower**<br>\r\n",
        "- `str.upper(a)` (`a.upper()`)<br>\r\n",
        "change all letters in variable a into upper case letters\r\n",
        "- `str.lower(a)` (`a.lower()`)<br>\r\n",
        "change all letters in variable a into lower case letters\r\n"
      ]
    },
    {
      "cell_type": "code",
      "metadata": {
        "colab": {
          "base_uri": "https://localhost:8080/"
        },
        "id": "yes0zKx6OSki",
        "outputId": "aa160816-cacd-45ef-fccc-75fadce21828"
      },
      "source": [
        "# upper\r\n",
        "a = 'strIng'\r\n",
        "print('a.upper():', a.upper())\r\n",
        "\r\n",
        "# lower\r\n",
        "b = 'PYTHOn'\r\n",
        "print('b.lower():', b.lower())"
      ],
      "execution_count": 14,
      "outputs": [
        {
          "output_type": "stream",
          "text": [
            "a.upper(): STRING\n",
            "b.lower(): python\n"
          ],
          "name": "stdout"
        }
      ]
    },
    {
      "cell_type": "markdown",
      "metadata": {
        "id": "JolavVA9-P93"
      },
      "source": [
        "\r\n",
        "\r\n",
        "---\r\n",
        "\r\n"
      ]
    },
    {
      "cell_type": "markdown",
      "metadata": {
        "id": "oORH8EjOzESY"
      },
      "source": [
        "**.find/.rfind**\r\n",
        "- `str.find(a, b)` (`a.find(b)`)<br>\r\n",
        "return the index of _first_ instance of string b(the first letter of b) inside a \r\n",
        "- `str.rfind(a,b)` (`a.rfind(b)`)<br>\r\n",
        "return the index of _last_ instance of string b(the first letter of b) inside b\r\n",
        "- returns -1 if not found"
      ]
    },
    {
      "cell_type": "code",
      "metadata": {
        "colab": {
          "base_uri": "https://localhost:8080/"
        },
        "id": "Jr5j4uRuzIZq",
        "outputId": "0777252f-81fd-4936-8c33-6499e17eaf3c"
      },
      "source": [
        "c = \"I desire to study AI\"\r\n",
        "\r\n",
        "# find\r\n",
        "print(\"find 'to' in c: \", str.find(c, \"to\"))\r\n",
        "print(\"find 'to' in c: \", c.find(\"to\"))\r\n",
        "print(\"c[9]:\", c[9]) # found the index of 't'\r\n",
        "print(\"find 'e' in c from left: \", c.find('e'))\r\n",
        "print(\"find 'x' in c:\", c.find(\"x\")) # not found\r\n",
        "print('\\n')\r\n",
        "\r\n",
        "# rfind\r\n",
        "print(\"find 'e' in c from right: \", str.rfind(c, \"e\"))\r\n",
        "print(\"find 'e' in c from right: \", c.rfind(\"e\"))\r\n",
        "print(\"find 're' in c from right: \", c.find(\"re\"))\r\n",
        "print(\"c[c.find('re')]: \", c[c.find('re')]) # found the index of 'r'\r\n",
        "print(\"find 'ess' in c from right: \", c.rfind('ess')) # not found"
      ],
      "execution_count": 21,
      "outputs": [
        {
          "output_type": "stream",
          "text": [
            "find 'to' in c:  9\n",
            "find 'to' in c:  9\n",
            "c[9]: t\n",
            "find 'e' in c from left:  3\n",
            "find 'x' in c: -1\n",
            "\n",
            "\n",
            "find 'e' in c from right:  7\n",
            "find 'e' in c from right:  7\n",
            "find 're' in c from right:  6\n",
            "c[c.find('re')]:  r\n",
            "find 'ess' in c from right:  -1\n"
          ],
          "name": "stdout"
        }
      ]
    },
    {
      "cell_type": "markdown",
      "metadata": {
        "id": "Lk44lIVy-Tjm"
      },
      "source": [
        "\r\n",
        "\r\n",
        "---\r\n",
        "\r\n"
      ]
    },
    {
      "cell_type": "markdown",
      "metadata": {
        "id": "odIIW1FM0tBH"
      },
      "source": [
        "**.rindex**\r\n",
        "- `str.rindex(a, b)` (`a.rindex(b)`)<br>\r\n",
        "works the same with **`.rfind`**\r\n",
        "- raise error if not found"
      ]
    },
    {
      "cell_type": "code",
      "metadata": {
        "colab": {
          "base_uri": "https://localhost:8080/"
        },
        "id": "kyeuIEMO1DFF",
        "outputId": "c57ec76b-f1f7-4552-cbc9-a07d2a72df9d"
      },
      "source": [
        "# rindex\r\n",
        "print(\"find 'e' in c from right: \", c.rindex('e'))\r\n",
        "print(\"find 're' in c from right: \", c.rindex('re'))\r\n",
        "print(\"c[c.rindex('re')]: \", c[c.rindex('re')])\r\n",
        "# print(\"find 'ess' in c from right: \", c.rindex('ess')) -> error"
      ],
      "execution_count": 23,
      "outputs": [
        {
          "output_type": "stream",
          "text": [
            "find 'e' in c from right:  7\n",
            "find 're' in c from right:  6\n",
            "c[c.rindex('re')]:  r\n"
          ],
          "name": "stdout"
        }
      ]
    },
    {
      "cell_type": "markdown",
      "metadata": {
        "id": "dEOhistm-U4d"
      },
      "source": [
        "\r\n",
        "\r\n",
        "---\r\n",
        "\r\n"
      ]
    },
    {
      "cell_type": "markdown",
      "metadata": {
        "id": "gBzXmMI01ve5"
      },
      "source": [
        "**.strip**\r\n",
        "- `a.strip()` (`str.strip(a)`)<br>\r\n",
        "- drop white spaces at the both ends of the string\r\n",
        "- `a.strip(b)` drops b at the both ends of the string (until b is not at the end)\r\n"
      ]
    },
    {
      "cell_type": "code",
      "metadata": {
        "colab": {
          "base_uri": "https://localhost:8080/"
        },
        "id": "Q7nEmXSH0wKo",
        "outputId": "bc1401f2-8b8e-4d9e-f9b1-781d383cb2a2"
      },
      "source": [
        "# strip\r\n",
        "d = '\\n\\nI really want to go to school...  '\r\n",
        "\r\n",
        "print(\"strip with no arg: \", d.strip()) # drop all white spaces\r\n",
        "print(\"lenght: \", len(d.strip()))\r\n",
        "print(\"strip with newline char as an arg: \", d.strip('\\n')) # drop what the arg contains\r\n",
        "print(\"lenght: \", len(d.strip('\\n')))"
      ],
      "execution_count": 28,
      "outputs": [
        {
          "output_type": "stream",
          "text": [
            "strip with no arg:  I really want to go to school...\n",
            "lenght:  32\n",
            "strip with newline char as an arg:  I really want to go to school...  \n",
            "lenght:  34\n"
          ],
          "name": "stdout"
        }
      ]
    },
    {
      "cell_type": "markdown",
      "metadata": {
        "id": "uLy6Ohzi-V0e"
      },
      "source": [
        "\r\n",
        "\r\n",
        "---\r\n",
        "\r\n"
      ]
    },
    {
      "cell_type": "markdown",
      "metadata": {
        "id": "GsVVTjJG4gaG"
      },
      "source": [
        "**.split**\r\n",
        "- `a.split()` (`str.split(a)`)\r\n",
        "- splits into a list wherever a is found\r\n",
        "- with no arguments, default is splitting by whitespaces"
      ]
    },
    {
      "cell_type": "code",
      "metadata": {
        "colab": {
          "base_uri": "https://localhost:8080/"
        },
        "id": "E-G2_sOC4gHQ",
        "outputId": "af883ecf-909b-4742-b0e0-e814b9fda624"
      },
      "source": [
        "# split\r\n",
        "e = 'I like the classes for this semester!'\r\n",
        "\r\n",
        "print('split with no arg: ', e.split()) # default (split by white spaces)\r\n",
        "print(\"split with 'e' as an arg: \", e.split('e'))"
      ],
      "execution_count": 33,
      "outputs": [
        {
          "output_type": "stream",
          "text": [
            "split with no arg:  ['I', 'like', 'the', 'classes', 'for', 'this', 'semester!']\n",
            "split with 'e' as an arg:  ['I lik', ' th', ' class', 's for this s', 'm', 'st', 'r!']\n"
          ],
          "name": "stdout"
        }
      ]
    },
    {
      "cell_type": "markdown",
      "metadata": {
        "id": "Jm_myznt-W3W"
      },
      "source": [
        "\r\n",
        "\r\n",
        "---\r\n",
        "\r\n"
      ]
    },
    {
      "cell_type": "markdown",
      "metadata": {
        "id": "9Z8RoWtW5J--"
      },
      "source": [
        "**.join**\r\n",
        "- `b.join(a)`\r\n",
        "- join b in the middle of each elements in a\r\n",
        "- list to string"
      ]
    },
    {
      "cell_type": "code",
      "metadata": {
        "colab": {
          "base_uri": "https://localhost:8080/"
        },
        "id": "k6C58PO75Mi5",
        "outputId": "de14a888-cef6-44ba-8180-dd0b0939e4b8"
      },
      "source": [
        "# join\r\n",
        "f = e.split()\r\n",
        "\r\n",
        "print(\"join ' ' btw the elements: \", ' '.join(f))\r\n",
        "print(\"join '' btw the elements: \", ''.join(f))\r\n",
        "print(\"join '|' btw the elements: \", '|'.join(f))"
      ],
      "execution_count": 35,
      "outputs": [
        {
          "output_type": "stream",
          "text": [
            "join ' ' btw the elements:  I like the classes for this semester!\n",
            "join '' btw the elements:  Iliketheclassesforthissemester!\n",
            "join '|' btw the elements:  I|like|the|classes|for|this|semester!\n"
          ],
          "name": "stdout"
        }
      ]
    },
    {
      "cell_type": "markdown",
      "metadata": {
        "id": "paXPlMO5-YC3"
      },
      "source": [
        "\r\n",
        "\r\n",
        "---\r\n",
        "\r\n"
      ]
    },
    {
      "cell_type": "markdown",
      "metadata": {
        "id": "Coj6kiYSVXM1"
      },
      "source": [
        "\r\n",
        "**.replace**\r\n",
        "- `a.replace(b, c)`\r\n",
        "- replace b with c inside a\r\n"
      ]
    },
    {
      "cell_type": "code",
      "metadata": {
        "colab": {
          "base_uri": "https://localhost:8080/"
        },
        "id": "8Yh_3XvKVli8",
        "outputId": "c38bab3a-dfc4-4aae-b16c-93c3ef9b88ab"
      },
      "source": [
        "print(\"replace 'like' to don't like': \", e.replace('like', \"don't like\"))"
      ],
      "execution_count": 37,
      "outputs": [
        {
          "output_type": "stream",
          "text": [
            "replace 'like' to don't like':  I don't like the classes for this semester!\n"
          ],
          "name": "stdout"
        }
      ]
    },
    {
      "cell_type": "code",
      "metadata": {
        "id": "SRduZsUl57H-"
      },
      "source": [
        ""
      ],
      "execution_count": null,
      "outputs": []
    }
  ]
}