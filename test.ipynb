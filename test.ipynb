{
  "nbformat": 4,
  "nbformat_minor": 0,
  "metadata": {
    "colab": {
      "name": "test.ipynb",
      "provenance": [],
      "authorship_tag": "ABX9TyP1bGVBEGZ4qESVKFA131bc",
      "include_colab_link": true
    },
    "kernelspec": {
      "name": "python3",
      "display_name": "Python 3"
    }
  },
  "cells": [
    {
      "cell_type": "markdown",
      "metadata": {
        "id": "view-in-github",
        "colab_type": "text"
      },
      "source": [
        "<a href=\"https://colab.research.google.com/github/letme-hj/class2021Spring/blob/main/test.ipynb\" target=\"_parent\"><img src=\"https://colab.research.google.com/assets/colab-badge.svg\" alt=\"Open In Colab\"/></a>"
      ]
    },
    {
      "cell_type": "markdown",
      "metadata": {
        "id": "xfS524tGVr75"
      },
      "source": [
        "## Jupyter Notebook\r\n",
        "- code\r\n",
        "- text\r\n",
        "\r\n",
        "두 가지로 구성됨.\r\n",
        "\r\n",
        "text는 지금 입력하고 있는 이것과 같이 markdown 문법 사용\r\n"
      ]
    },
    {
      "cell_type": "code",
      "metadata": {
        "colab": {
          "base_uri": "https://localhost:8080/",
          "height": 0
        },
        "id": "-kV23DwuV4aD",
        "outputId": "fc43012d-9814-4fff-c3de-643d3eea0a00"
      },
      "source": [
        "# code는 이런 코드 창에 입력\r\n",
        "a = 1\r\n",
        "b = 1\r\n",
        "c = a + b\r\n",
        "c"
      ],
      "execution_count": 1,
      "outputs": [
        {
          "output_type": "execute_result",
          "data": {
            "text/plain": [
              "2"
            ]
          },
          "metadata": {
            "tags": []
          },
          "execution_count": 1
        }
      ]
    },
    {
      "cell_type": "markdown",
      "metadata": {
        "id": "fxXu8tjRWR29"
      },
      "source": [
        "## 파이썬\r\n",
        "- 교재: [Jump to python](https://wikidocs.net/book/1)\r\n",
        "\r\n",
        "### \"coding\"\r\n",
        "- 개발자 (C, Java, C#, HTML, ...)\r\n",
        "- 연구 (R, pthon, ...)\r\n",
        "\r\n",
        "\r\n"
      ]
    },
    {
      "cell_type": "code",
      "metadata": {
        "id": "6YNI5g6UV_lS"
      },
      "source": [
        ""
      ],
      "execution_count": 1,
      "outputs": []
    }
  ]
}