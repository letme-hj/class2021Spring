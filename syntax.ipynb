{
  "nbformat": 4,
  "nbformat_minor": 0,
  "metadata": {
    "colab": {
      "name": "syntax.ipynb",
      "provenance": [],
      "authorship_tag": "ABX9TyNSU+MZs8PQ1xRZwJeP2LPh",
      "include_colab_link": true
    },
    "kernelspec": {
      "name": "python3",
      "display_name": "Python 3"
    }
  },
  "cells": [
    {
      "cell_type": "markdown",
      "metadata": {
        "id": "view-in-github",
        "colab_type": "text"
      },
      "source": [
        "<a href=\"https://colab.research.google.com/github/letme-hj/class2021Spring/blob/main/syntax.ipynb\" target=\"_parent\"><img src=\"https://colab.research.google.com/assets/colab-badge.svg\" alt=\"Open In Colab\"/></a>"
      ]
    },
    {
      "cell_type": "markdown",
      "metadata": {
        "id": "ehYd5IrDxbs_"
      },
      "source": [
        "## **For문**\r\n",
        "`for i in 000`<br>\r\n",
        "If you write some functions or commands in 'for loop', they are implemented for every `i`s in `000`\r\n",
        "\r\n",
        "<br>\r\n",
        "\r\n",
        "### Main use case of for loop\r\n",
        "when trying to go over the elements of a sequence data\r\n",
        "- `i` being each elements\r\n",
        "- `i` being the index of each elements"
      ]
    },
    {
      "cell_type": "code",
      "metadata": {
        "colab": {
          "base_uri": "https://localhost:8080/"
        },
        "id": "sO7GvXXDxVjl",
        "outputId": "31cf9827-8bf7-49fa-c412-28790e43a6ca"
      },
      "source": [
        "# main use case 1 - i being each elements\r\n",
        "a = ['b', 'e', 's', 't']\r\n",
        "b = 'best'\r\n",
        "c = {0:'b', 1:'e', 2:'s', 3:'t'}\r\n",
        "d = {'b':1, 'e':2, 's':3, 't':4}\r\n",
        "\r\n",
        "print('for i in a: ')\r\n",
        "for i in a:\r\n",
        "  print('\\t',i)\r\n",
        "\r\n",
        "print('for i in b: ')\r\n",
        "for i in b:\r\n",
        "  print('\\t',i)\r\n",
        "\r\n",
        "print('for i in c: ')\r\n",
        "for i in c:\r\n",
        "  print('\\t', i) # cf. when printing the element of dict, it turns out to be the keys of the dict\r\n"
      ],
      "execution_count": 12,
      "outputs": [
        {
          "output_type": "stream",
          "text": [
            "for i in a: \n",
            "\t b\n",
            "\t e\n",
            "\t s\n",
            "\t t\n",
            "for i in b: \n",
            "\t b\n",
            "\t e\n",
            "\t s\n",
            "\t t\n",
            "for i in c: \n",
            "\t 0\n",
            "\t 1\n",
            "\t 2\n",
            "\t 3\n"
          ],
          "name": "stdout"
        }
      ]
    },
    {
      "cell_type": "code",
      "metadata": {
        "colab": {
          "base_uri": "https://localhost:8080/"
        },
        "id": "qS4wCJJt08Ty",
        "outputId": "6eb42a1b-bb4d-446f-966b-ce6434399a9a"
      },
      "source": [
        "# main use case 2 - i being the index of each elements\r\n",
        "print('for i in a: ')\r\n",
        "for i in range(len(a)):\r\n",
        "  print('\\t',a[i])\r\n",
        "\r\n",
        "print('for i in b: ')\r\n",
        "for i in range(len(b)):\r\n",
        "  print('\\t',b[i])\r\n",
        "\r\n",
        "print('for i in c: ')\r\n",
        "for i in range(len(c)):\r\n",
        "  print('\\t', c[i])\r\n",
        "\r\n",
        "# print('for i in d: ')\r\n",
        "# for i in range(len(d)):\r\n",
        "#   print('\\t', d[i])  -> error (dictionary can't be indexed with numbers unless the keys are in numbers (in case of c))"
      ],
      "execution_count": 14,
      "outputs": [
        {
          "output_type": "stream",
          "text": [
            "for i in a: \n",
            "\t b\n",
            "\t e\n",
            "\t s\n",
            "\t t\n",
            "for i in b: \n",
            "\t b\n",
            "\t e\n",
            "\t s\n",
            "\t t\n",
            "for i in c: \n",
            "\t b\n",
            "\t e\n",
            "\t s\n",
            "\t t\n"
          ],
          "name": "stdout"
        }
      ]
    },
    {
      "cell_type": "code",
      "metadata": {
        "colab": {
          "base_uri": "https://localhost:8080/"
        },
        "id": "RroODNcM4ozh",
        "outputId": "972cff5f-77d2-4e06-8929-058cab196681"
      },
      "source": [
        "# Nested loop\r\n",
        "for i in range(len(b)):\r\n",
        "  for j in a:\r\n",
        "    print('index {}: {}'.format(i,j))"
      ],
      "execution_count": 18,
      "outputs": [
        {
          "output_type": "stream",
          "text": [
            "index 0: b\n",
            "index 0: e\n",
            "index 0: s\n",
            "index 0: t\n",
            "index 1: b\n",
            "index 1: e\n",
            "index 1: s\n",
            "index 1: t\n",
            "index 2: b\n",
            "index 2: e\n",
            "index 2: s\n",
            "index 2: t\n",
            "index 3: b\n",
            "index 3: e\n",
            "index 3: s\n",
            "index 3: t\n"
          ],
          "name": "stdout"
        }
      ]
    },
    {
      "cell_type": "markdown",
      "metadata": {
        "id": "Bm4mmkdn3J_c"
      },
      "source": [
        "### Range\r\n",
        "A datatype that implies a sequence of numbers\r\n",
        "- `range(n)`: 0~(n-1)\r\n",
        "- `range(n, m)`: n~(m-1)\r\n",
        "- `range(n, m, s)`: n~(m-1), and with intervals of s\r\n",
        "<br>\r\n",
        "<br>\r\n",
        "\r\n",
        "`list(range(n))` returns a list of numbers from 0 to n-1"
      ]
    },
    {
      "cell_type": "code",
      "metadata": {
        "colab": {
          "base_uri": "https://localhost:8080/"
        },
        "id": "aQDzttIx1aYB",
        "outputId": "b572f67c-c2f2-4776-fff5-0279eae20579"
      },
      "source": [
        "print('range(3):', range(3))\r\n",
        "print('range(3,7):', range(3,7))\r\n",
        "print('range(3,10,2):', range(3,10,2))\r\n",
        "print('list(range(3)):', list(range(3)))\r\n",
        "print('list(range(3,7)):', list(range(3,7)))"
      ],
      "execution_count": 16,
      "outputs": [
        {
          "output_type": "stream",
          "text": [
            "range(3): range(0, 3)\n",
            "range(3,7): range(3, 7)\n",
            "range(3,10,2): range(3, 10, 2)\n",
            "list(range(3)): [0, 1, 2]\n",
            "list(range(3,7)): [3, 4, 5, 6]\n"
          ],
          "name": "stdout"
        }
      ]
    },
    {
      "cell_type": "code",
      "metadata": {
        "id": "GI-htEZz4ULa"
      },
      "source": [
        ""
      ],
      "execution_count": null,
      "outputs": []
    }
  ]
}