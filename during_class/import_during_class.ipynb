{
  "nbformat": 4,
  "nbformat_minor": 0,
  "metadata": {
    "colab": {
      "name": "import_during_class.ipynb",
      "provenance": [],
      "authorship_tag": "ABX9TyNqdGow8ft7DkUD8XuXakIT",
      "include_colab_link": true
    },
    "kernelspec": {
      "name": "python3",
      "display_name": "Python 3"
    },
    "language_info": {
      "name": "python"
    }
  },
  "cells": [
    {
      "cell_type": "markdown",
      "metadata": {
        "id": "view-in-github",
        "colab_type": "text"
      },
      "source": [
        "<a href=\"https://colab.research.google.com/github/letme-hj/class2021Spring/blob/main/import_during_class.ipynb\" target=\"_parent\"><img src=\"https://colab.research.google.com/assets/colab-badge.svg\" alt=\"Open In Colab\"/></a>"
      ]
    },
    {
      "cell_type": "markdown",
      "metadata": {
        "id": "RTjeGe-DgLLW"
      },
      "source": [
        "### `numpy` 패키지"
      ]
    },
    {
      "cell_type": "code",
      "metadata": {
        "id": "h7QgVCOGgDiG"
      },
      "source": [
        "import numpy as np\n",
        "n = np.random.randn(100) # n-normal. randn- 정규분포를 가지는 숫자 랜덤 형성"
      ],
      "execution_count": 1,
      "outputs": []
    },
    {
      "cell_type": "markdown",
      "metadata": {
        "id": "xS9daz4NgOzs"
      },
      "source": [
        "### `matplotlib` 패키지\n",
        "\n",
        "`matplotlib`이라는 **패키지**가 있고<br>\n",
        "그 안에 `pyplot`이라는 **모듈(.py)**이 있고,<br>\n",
        "그 안에 `hist`라는 **function**이 있다<br>"
      ]
    },
    {
      "cell_type": "code",
      "metadata": {
        "id": "6-cedzH3gJLF"
      },
      "source": [
        "import matplotlib \n",
        "matplotlib.pyplot.hist(n)"
      ],
      "execution_count": 2,
      "outputs": []
    },
    {
      "cell_type": "code",
      "metadata": {
        "colab": {
          "base_uri": "https://localhost:8080/",
          "height": 350
        },
        "id": "yaA3a7xPhCTq",
        "outputId": "02334e75-044b-44bc-c5c7-b104e6738e14"
      },
      "source": [
        "import matplotlib.pyplot # matplotlib 패키지 안의 pyplot 모듈까지 import (import한 것의 이름만 쓰면 됨)\n",
        "matplotlib.pyplot.hist(n)"
      ],
      "execution_count": 3,
      "outputs": [
        {
          "output_type": "execute_result",
          "data": {
            "text/plain": [
              "(array([ 5.,  7., 11., 18., 16., 21.,  8.,  8.,  3.,  3.]),\n",
              " array([-2.07537819, -1.64461961, -1.21386103, -0.78310245, -0.35234387,\n",
              "         0.07841471,  0.50917329,  0.93993187,  1.37069045,  1.80144903,\n",
              "         2.23220761]),\n",
              " <a list of 10 Patch objects>)"
            ]
          },
          "metadata": {
            "tags": []
          },
          "execution_count": 3
        },
        {
          "output_type": "display_data",
          "data": {
            "image/png": "[encoded data removed]",
            "text/plain": [
              "<Figure size 432x288 with 1 Axes>"
            ]
          },
          "metadata": {
            "tags": [],
            "needs_background": "light"
          }
        }
      ]
    },
    {
      "cell_type": "code",
      "metadata": {
        "colab": {
          "base_uri": "https://localhost:8080/",
          "height": 350
        },
        "id": "_oZBnJbxhM9K",
        "outputId": "93d105ad-8c2f-4504-e795-cd92a71159ee"
      },
      "source": [
        "from matplotlib import pyplot # matplotlib 패키지 안의 pyplot 모듈 (from 상위 개념 import 하위 개념)\n",
        "pyplot.hist(n)"
      ],
      "execution_count": 4,
      "outputs": [
        {
          "output_type": "execute_result",
          "data": {
            "text/plain": [
              "(array([ 5.,  7., 11., 18., 16., 21.,  8.,  8.,  3.,  3.]),\n",
              " array([-2.07537819, -1.64461961, -1.21386103, -0.78310245, -0.35234387,\n",
              "         0.07841471,  0.50917329,  0.93993187,  1.37069045,  1.80144903,\n",
              "         2.23220761]),\n",
              " <a list of 10 Patch objects>)"
            ]
          },
          "metadata": {
            "tags": []
          },
          "execution_count": 4
        },
        {
          "output_type": "display_data",
          "data": {
            "image/png": "[encoded data removed]",
            "text/plain": [
              "<Figure size 432x288 with 1 Axes>"
            ]
          },
          "metadata": {
            "tags": [],
            "needs_background": "light"
          }
        }
      ]
    },
    {
      "cell_type": "code",
      "metadata": {
        "colab": {
          "base_uri": "https://localhost:8080/",
          "height": 350
        },
        "id": "O-gySlEHhXnQ",
        "outputId": "58712106-36ed-4c90-ba37-66bac2065bee"
      },
      "source": [
        "from matplotlib.pyplot import hist # matplotlib 패키지의 pyplot 모듈 안의 hist 함수\n",
        "hist(n)"
      ],
      "execution_count": 5,
      "outputs": [
        {
          "output_type": "execute_result",
          "data": {
            "text/plain": [
              "(array([ 5.,  7., 11., 18., 16., 21.,  8.,  8.,  3.,  3.]),\n",
              " array([-2.07537819, -1.64461961, -1.21386103, -0.78310245, -0.35234387,\n",
              "         0.07841471,  0.50917329,  0.93993187,  1.37069045,  1.80144903,\n",
              "         2.23220761]),\n",
              " <a list of 10 Patch objects>)"
            ]
          },
          "metadata": {
            "tags": []
          },
          "execution_count": 5
        },
        {
          "output_type": "display_data",
          "data": {
            "image/png": "[encoded data removed]",
            "text/plain": [
              "<Figure size 432x288 with 1 Axes>"
            ]
          },
          "metadata": {
            "tags": [],
            "needs_background": "light"
          }
        }
      ]
    },
    {
      "cell_type": "code",
      "metadata": {
        "id": "zCJ6RO4ohe7c"
      },
      "source": [
        ""
      ],
      "execution_count": null,
      "outputs": []
    }
  ]
}
