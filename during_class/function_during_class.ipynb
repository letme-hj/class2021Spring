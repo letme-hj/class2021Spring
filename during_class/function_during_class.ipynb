{
  "nbformat": 4,
  "nbformat_minor": 0,
  "metadata": {
    "colab": {
      "name": "function_during_class",
      "provenance": [],
      "include_colab_link": true
    },
    "kernelspec": {
      "name": "python3",
      "display_name": "Python 3"
    }
  },
  "cells": [
    {
      "cell_type": "markdown",
      "metadata": {
        "id": "view-in-github",
        "colab_type": "text"
      },
      "source": [
        "<a href=\"https://colab.research.google.com/github/letme-hj/class2021Spring/blob/main/function_during_class.ipynb\" target=\"_parent\"><img src=\"https://colab.research.google.com/assets/colab-badge.svg\" alt=\"Open In Colab\"/></a>"
      ]
    },
    {
      "cell_type": "code",
      "metadata": {
        "id": "hpc_mhgAye2S"
      },
      "source": [
        "def add(a,b): # 함수의 입력 부분이 (a, b)\n",
        "  return a+b # return [출력 부분]\n",
        "\n",
        "def subtract(a,b):\n",
        "  return a-b\n",
        "\n",
        "def multiply(a,b):\n",
        "  return a*b\n",
        "\n",
        "def divide(a,b):\n",
        "  return a/b\n",
        "\n",
        "def tup(a,b):\n",
        "  return a, b"
      ],
      "execution_count": 16,
      "outputs": []
    },
    {
      "cell_type": "code",
      "metadata": {
        "colab": {
          "base_uri": "https://localhost:8080/"
        },
        "id": "8Y4oa05Eykn4",
        "outputId": "b37c1589-3df0-44ce-c919-d53ea2ed0479"
      },
      "source": [
        "c = add(1, 2); print(c) # 입출력 모두 없음\n",
        "c = subtract(1,2); print(c)\n",
        "c = multiply(1,2); print(c)\n",
        "c = divide(1,2); print(c)\n",
        "c = tup(1,2); print(c)\n"
      ],
      "execution_count": 19,
      "outputs": [
        {
          "output_type": "stream",
          "text": [
            "3\n",
            "-1\n",
            "2\n",
            "0.5\n",
            "(1, 2)\n"
          ],
          "name": "stdout"
        }
      ]
    },
    {
      "cell_type": "code",
      "metadata": {
        "id": "6akN95EeVHw1",
        "outputId": "a7d24ad0-c68b-41a3-8538-154e617cf772",
        "colab": {
          "base_uri": "https://localhost:8080/"
        }
      },
      "source": [
        "def fun1(x, a, b):\n",
        "  y = a*x + b\n",
        "  return y\n",
        "\n",
        "fun1(5, 1, -2)"
      ],
      "execution_count": 1,
      "outputs": [
        {
          "output_type": "execute_result",
          "data": {
            "text/plain": [
              "3"
            ]
          },
          "metadata": {
            "tags": []
          },
          "execution_count": 1
        }
      ]
    },
    {
      "cell_type": "code",
      "metadata": {
        "id": "LeNeHRvmV9iu"
      },
      "source": [
        "def add(a, b):\n",
        "  c = a + b # 이 함수는 내부적으로 연산은 이루어지지만 return 값이 없음. 이렇게 출력이 없는 함수도 있음\n",
        "\n",
        "# 입력이 없는 함수도 될까?\n",
        "def add():\n",
        "  a = 1 # 가능. 입출력 모두 없는 함수"
      ],
      "execution_count": 8,
      "outputs": []
    },
    {
      "cell_type": "markdown",
      "metadata": {
        "id": "L0EbGoluago5"
      },
      "source": [
        "\n"
      ]
    },
    {
      "cell_type": "code",
      "metadata": {
        "id": "xPFQPXvdbA3l"
      },
      "source": [
        ""
      ],
      "execution_count": null,
      "outputs": []
    }
  ]
}
