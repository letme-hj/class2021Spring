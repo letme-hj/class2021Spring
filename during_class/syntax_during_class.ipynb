{
  "nbformat": 4,
  "nbformat_minor": 0,
  "metadata": {
    "kernelspec": {
      "display_name": "Python 3",
      "language": "python",
      "name": "python3"
    },
    "language_info": {
      "codemirror_mode": {
        "name": "ipython",
        "version": 3
      },
      "file_extension": ".py",
      "mimetype": "text/x-python",
      "name": "python",
      "nbconvert_exporter": "python",
      "pygments_lexer": "ipython3",
      "version": "3.7.1"
    },
    "colab": {
      "name": "syntax.ipynb의 사본",
      "provenance": [],
      "include_colab_link": true
    }
  },
  "cells": [
    {
      "cell_type": "markdown",
      "metadata": {
        "id": "view-in-github",
        "colab_type": "text"
      },
      "source": [
        "<a href=\"https://colab.research.google.com/github/letme-hj/class2021Spring/blob/main/syntax_during_class.ipynb\" target=\"_parent\"><img src=\"https://colab.research.google.com/assets/colab-badge.svg\" alt=\"Open In Colab\"/></a>"
      ]
    },
    {
      "cell_type": "code",
      "metadata": {
        "id": "Fu2mzgrqSLAU",
        "colab": {
          "base_uri": "https://localhost:8080/"
        },
        "outputId": "1be797cb-b71a-4b39-b2cc-f3ddf90f43d3"
      },
      "source": [
        "# 대표적인 for문 활용 예시 1\n",
        "a = [1, 2, 3, 4]\n",
        "for i in a:\n",
        "    print(i)"
      ],
      "execution_count": null,
      "outputs": [
        {
          "output_type": "stream",
          "text": [
            "1\n",
            "2\n",
            "3\n",
            "4\n"
          ],
          "name": "stdout"
        }
      ]
    },
    {
      "cell_type": "markdown",
      "metadata": {
        "id": "ZmUVVo3FmDO0"
      },
      "source": [
        "for [변수] in [여러element]:\r\n",
        "> 여러번 돌릴 것에 대한 내용 (repeat 내용)\r\n",
        "\r\n",
        "여러 element 대신 range를 쓸 수도 있음"
      ]
    },
    {
      "cell_type": "code",
      "metadata": {
        "id": "a_kO4DLffHa4",
        "colab": {
          "base_uri": "https://localhost:8080/"
        },
        "outputId": "3f1ee338-72d6-449f-db56-df197cb1a69a"
      },
      "source": [
        "print(range(3))\r\n",
        "print(list(range(3)))\r\n",
        "print(list(range(2,6)))\r\n",
        "print(list(range(2,20,3)))\r\n"
      ],
      "execution_count": null,
      "outputs": [
        {
          "output_type": "stream",
          "text": [
            "range(0, 3)\n",
            "[0, 1, 2]\n",
            "[2, 3, 4, 5]\n",
            "[2, 5, 8, 11, 14, 17]\n"
          ],
          "name": "stdout"
        }
      ]
    },
    {
      "cell_type": "code",
      "metadata": {
        "id": "XSJxLJVCSLAW",
        "colab": {
          "base_uri": "https://localhost:8080/"
        },
        "outputId": "b51a5885-e786-45d6-a3ac-4cc9e415a527"
      },
      "source": [
        "# 대표적인 for문 활용 예시 2 (range를 인덱스로 활용)\n",
        "a = [1, 2, 3, 4]\n",
        "for i in range(len(a)): # range: 인자로 들어간 숫자전까지를 저장\n",
        "    print(a[i])\n",
        "\n",
        "# 인덱스가 없는 걸 for 문 안에서 호출하게 되면 error! list index out of range (a[5] 등)"
      ],
      "execution_count": 1,
      "outputs": [
        {
          "output_type": "stream",
          "text": [
            "1\n",
            "2\n",
            "3\n",
            "4\n"
          ],
          "name": "stdout"
        }
      ]
    },
    {
      "cell_type": "code",
      "metadata": {
        "id": "VTfxVRdgSLAW",
        "colab": {
          "base_uri": "https://localhost:8080/"
        },
        "outputId": "4322f4e0-f23b-464e-965c-e5aa1bb2b227"
      },
      "source": [
        "a = ['red', 'green', 'blue', 'purple']\n",
        "for i in a:\n",
        "    print(i)"
      ],
      "execution_count": 2,
      "outputs": [
        {
          "output_type": "stream",
          "text": [
            "red\n",
            "green\n",
            "blue\n",
            "purple\n"
          ],
          "name": "stdout"
        }
      ]
    },
    {
      "cell_type": "code",
      "metadata": {
        "id": "Vc-7pW85SLAW",
        "colab": {
          "base_uri": "https://localhost:8080/"
        },
        "outputId": "cf3d19ed-8a7b-458a-dbaf-eecf36eb0e2a"
      },
      "source": [
        "a = ['red', 'green', 'blue', 'purple']\n",
        "for i in range(len(a)):\n",
        "    print(a[i])"
      ],
      "execution_count": 3,
      "outputs": [
        {
          "output_type": "stream",
          "text": [
            "red\n",
            "green\n",
            "blue\n",
            "purple\n"
          ],
          "name": "stdout"
        }
      ]
    },
    {
      "cell_type": "code",
      "metadata": {
        "id": "XOdMzcWsSLAX",
        "colab": {
          "base_uri": "https://localhost:8080/"
        },
        "outputId": "7de1d7b6-2a3f-4959-82b9-f46c4d159786"
      },
      "source": [
        "a = [\"red\", \"green\", \"blue\", \"purple\"]\n",
        "b = [0.2, 0.3, 0.1, 0.4]\n",
        "for i, a_ in enumerate(a): # 수업에서는 skip 하겠음 (zip도)\n",
        "    print(\"{}: {}%\".format(a_, b[i]*100))"
      ],
      "execution_count": 4,
      "outputs": [
        {
          "output_type": "stream",
          "text": [
            "red: 20.0%\n",
            "green: 30.0%\n",
            "blue: 10.0%\n",
            "purple: 40.0%\n"
          ],
          "name": "stdout"
        }
      ]
    },
    {
      "cell_type": "code",
      "metadata": {
        "id": "Ej_gWa3oSLAX",
        "colab": {
          "base_uri": "https://localhost:8080/"
        },
        "outputId": "638410bc-6dbc-4857-b994-8399f90bd2f0"
      },
      "source": [
        "a = [\"red\", \"green\", \"blue\", \"purple\"]\n",
        "b = [0.2, 0.3, 0.1, 0.4]\n",
        "for a_, b_ in zip(a, b):\n",
        "    print(\"{}: {}%\".format(a_, b_*100))\n"
      ],
      "execution_count": 5,
      "outputs": [
        {
          "output_type": "stream",
          "text": [
            "red: 20.0%\n",
            "green: 30.0%\n",
            "blue: 10.0%\n",
            "purple: 40.0%\n"
          ],
          "name": "stdout"
        }
      ]
    },
    {
      "cell_type": "markdown",
      "metadata": {
        "id": "8mFRxUdjpZxG"
      },
      "source": [
        "제어문(syntax)\r\n",
        "- Loop(for, while), Condition\r\n",
        "\r\n",
        "**Condition**\r\n",
        "\r\n",
        "if 00 :\r\n",
        "  >내용<br>\r\n",
        "\r\n",
        "else:\r\n",
        "> dd"
      ]
    },
    {
      "cell_type": "code",
      "metadata": {
        "id": "dD-ephD3SLAX",
        "colab": {
          "base_uri": "https://localhost:8080/"
        },
        "outputId": "5cec7e60-feb5-48a8-e035-1986350b7f59"
      },
      "source": [
        "# if\n",
        "a = 0\n",
        "if a == 0: # = 와 == 는ㄴ 완전히 다른 기능. =는 assign, ==는 equivalent\n",
        "    print(a)\n",
        "else:\n",
        "    print(a+1) # else 구문 없이 a!=0인 경우, 아무 결과도 나타나지 않을 것"
      ],
      "execution_count": null,
      "outputs": [
        {
          "output_type": "stream",
          "text": [
            "0\n"
          ],
          "name": "stdout"
        }
      ]
    },
    {
      "cell_type": "code",
      "metadata": {
        "id": "M0AZaDMvSLAY",
        "colab": {
          "base_uri": "https://localhost:8080/"
        },
        "outputId": "7ef9bf41-fe10-4a00-dc33-67a9aea9d733"
      },
      "source": [
        "# 이중 for 문 \n",
        "for i in range(1, 3):\n",
        "    for j in range(3, 5):\n",
        "        print(i*j)\n",
        "# i 1, j 3\n",
        "# i 1, j 4\n",
        "# i 2, j 3\n",
        "# i 2, j 4\n",
        "# 총 loop 돈 수: len(바깥 for)*len(내부 for)"
      ],
      "execution_count": null,
      "outputs": [
        {
          "output_type": "stream",
          "text": [
            "3\n",
            "4\n",
            "6\n",
            "8\n"
          ],
          "name": "stdout"
        }
      ]
    },
    {
      "cell_type": "code",
      "metadata": {
        "id": "ZPpZmVIHSLAY",
        "colab": {
          "base_uri": "https://localhost:8080/"
        },
        "outputId": "19a39e4c-301d-419d-e2ed-35ce048c2510"
      },
      "source": [
        "# for과 if 같이 나타나있음\n",
        "for i in range(1, 3):\n",
        "    for j in range(3, 5):\n",
        "        if j >=4: # 이 if문은 총 4번 실행되게 됨\n",
        "            print(i*j)\n",
        "\n",
        "# 직접 꼬아서 연습해보기"
      ],
      "execution_count": 6,
      "outputs": [
        {
          "output_type": "stream",
          "text": [
            "4\n",
            "8\n"
          ],
          "name": "stdout"
        }
      ]
    },
    {
      "cell_type": "code",
      "metadata": {
        "id": "JQXk5vi0SLAY",
        "colab": {
          "base_uri": "https://localhost:8080/"
        },
        "outputId": "cb5750bb-218f-4dc4-9984-116e2595f4c3"
      },
      "source": [
        "# list 만드는 꽃에 해당하는 부분\n",
        "a = [1, 2, 3, 4]\n",
        "b = [i for i in a if i >=2] # list comprehension / list loop(loop list) 가볍게 lislt 행성 가능~!\n",
        "print(b)\n",
        "print(type(b))\n",
        "\n",
        "# b를 파헤쳐보자\n",
        "# [i for i in [1,2,3,4] if i>=2] \n",
        "# 맨 앞 i: 리스트 b에 실제로 들어가게 되는 부분\n",
        "# for i in [1,2,3,4]:\n",
        "#   if i>=2:\n",
        "#      i"
      ],
      "execution_count": 8,
      "outputs": [
        {
          "output_type": "stream",
          "text": [
            "[2, 3, 4]\n",
            "<class 'list'>\n"
          ],
          "name": "stdout"
        }
      ]
    },
    {
      "cell_type": "code",
      "metadata": {
        "id": "MDmBGZ3LSLAZ",
        "colab": {
          "base_uri": "https://localhost:8080/"
        },
        "outputId": "2a71dee7-fb62-4176-89da-a2dbb32f9321"
      },
      "source": [
        "a = ['red', 'green', 'blue', 'purple']\n",
        "b = [i for i in a if len(i) >=4]\n",
        "b\n",
        "# b 파헤치기\n",
        "# for i in a:\n",
        "#   if len(i) >= 4:"
      ],
      "execution_count": 9,
      "outputs": [
        {
          "output_type": "execute_result",
          "data": {
            "text/plain": [
              "['green', 'blue', 'purple']"
            ]
          },
          "metadata": {
            "tags": []
          },
          "execution_count": 9
        }
      ]
    },
    {
      "cell_type": "code",
      "metadata": {
        "id": "myPb60JSJqA4"
      },
      "source": [
        ""
      ],
      "execution_count": null,
      "outputs": []
    }
  ]
}
