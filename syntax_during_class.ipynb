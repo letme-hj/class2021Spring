{
  "nbformat": 4,
  "nbformat_minor": 0,
  "metadata": {
    "kernelspec": {
      "display_name": "Python 3",
      "language": "python",
      "name": "python3"
    },
    "language_info": {
      "codemirror_mode": {
        "name": "ipython",
        "version": 3
      },
      "file_extension": ".py",
      "mimetype": "text/x-python",
      "name": "python",
      "nbconvert_exporter": "python",
      "pygments_lexer": "ipython3",
      "version": "3.7.1"
    },
    "colab": {
      "name": "syntax.ipynb의 사본",
      "provenance": [],
      "include_colab_link": true
    }
  },
  "cells": [
    {
      "cell_type": "markdown",
      "metadata": {
        "id": "view-in-github",
        "colab_type": "text"
      },
      "source": [
        "<a href=\"https://colab.research.google.com/github/letme-hj/class2021Spring/blob/main/syntax_ipynb%EC%9D%98_%EC%82%AC%EB%B3%B8.ipynb\" target=\"_parent\"><img src=\"https://colab.research.google.com/assets/colab-badge.svg\" alt=\"Open In Colab\"/></a>"
      ]
    },
    {
      "cell_type": "code",
      "metadata": {
        "id": "Fu2mzgrqSLAU",
        "colab": {
          "base_uri": "https://localhost:8080/"
        },
        "outputId": "1be797cb-b71a-4b39-b2cc-f3ddf90f43d3"
      },
      "source": [
        "# 대표적인 for문 활용 예시 1\n",
        "a = [1, 2, 3, 4]\n",
        "for i in a:\n",
        "    print(i)"
      ],
      "execution_count": 1,
      "outputs": [
        {
          "output_type": "stream",
          "text": [
            "1\n",
            "2\n",
            "3\n",
            "4\n"
          ],
          "name": "stdout"
        }
      ]
    },
    {
      "cell_type": "code",
      "metadata": {
        "id": "a_kO4DLffHa4",
        "outputId": "3f1ee338-72d6-449f-db56-df197cb1a69a",
        "colab": {
          "base_uri": "https://localhost:8080/"
        }
      },
      "source": [
        "print(range(3))\r\n",
        "print(list(range(3)))\r\n",
        "print(list(range(2,6)))\r\n",
        "print(list(range(2,20,3)))"
      ],
      "execution_count": 6,
      "outputs": [
        {
          "output_type": "stream",
          "text": [
            "range(0, 3)\n",
            "[0, 1, 2]\n",
            "[2, 3, 4, 5]\n",
            "[2, 5, 8, 11, 14, 17]\n"
          ],
          "name": "stdout"
        }
      ]
    },
    {
      "cell_type": "code",
      "metadata": {
        "id": "XSJxLJVCSLAW",
        "colab": {
          "base_uri": "https://localhost:8080/"
        },
        "outputId": "5cf4c850-9bc9-467b-c54e-473bead7f5ae"
      },
      "source": [
        "# 대표적인 for문 활용 예시 2 (range를 인덱스로 활용)\n",
        "a = [1, 2, 3, 4]\n",
        "for i in range(len(a)): # range: 인자로 들어간 숫자전까지를 저장\n",
        "    print(a[i])"
      ],
      "execution_count": 7,
      "outputs": [
        {
          "output_type": "stream",
          "text": [
            "1\n",
            "2\n",
            "3\n",
            "4\n"
          ],
          "name": "stdout"
        }
      ]
    },
    {
      "cell_type": "code",
      "metadata": {
        "id": "VTfxVRdgSLAW",
        "colab": {
          "base_uri": "https://localhost:8080/"
        },
        "outputId": "fa55c309-1d0c-479e-a407-f125132eabd7"
      },
      "source": [
        "a = ['red', 'green', 'blue', 'purple']\n",
        "for i in a:\n",
        "    print(i)"
      ],
      "execution_count": 8,
      "outputs": [
        {
          "output_type": "stream",
          "text": [
            "red\n",
            "green\n",
            "blue\n",
            "purple\n"
          ],
          "name": "stdout"
        }
      ]
    },
    {
      "cell_type": "code",
      "metadata": {
        "id": "Vc-7pW85SLAW",
        "colab": {
          "base_uri": "https://localhost:8080/"
        },
        "outputId": "d44e3815-9f31-441c-bf88-82e9477094f5"
      },
      "source": [
        "a = ['red', 'green', 'blue', 'purple']\n",
        "for i in range(len(a)):\n",
        "    print(a[i])"
      ],
      "execution_count": 9,
      "outputs": [
        {
          "output_type": "stream",
          "text": [
            "red\n",
            "green\n",
            "blue\n",
            "purple\n"
          ],
          "name": "stdout"
        }
      ]
    },
    {
      "cell_type": "code",
      "metadata": {
        "id": "XOdMzcWsSLAX",
        "colab": {
          "base_uri": "https://localhost:8080/"
        },
        "outputId": "a1d479a5-829c-4638-dcee-7c21a4c1bc03"
      },
      "source": [
        "a = [\"red\", \"green\", \"blue\", \"purple\"]\n",
        "b = [0.2, 0.3, 0.1, 0.4]\n",
        "for i, a_ in enumerate(a):\n",
        "    print(\"{}: {}%\".format(a_, b[i]*100))"
      ],
      "execution_count": 10,
      "outputs": [
        {
          "output_type": "stream",
          "text": [
            "red: 20.0%\n",
            "green: 30.0%\n",
            "blue: 10.0%\n",
            "purple: 40.0%\n"
          ],
          "name": "stdout"
        }
      ]
    },
    {
      "cell_type": "code",
      "metadata": {
        "id": "Ej_gWa3oSLAX",
        "colab": {
          "base_uri": "https://localhost:8080/"
        },
        "outputId": "85d712dd-a7d5-41e5-84e1-aba63c25a425"
      },
      "source": [
        "a = [\"red\", \"green\", \"blue\", \"purple\"]\n",
        "b = [0.2, 0.3, 0.1, 0.4]\n",
        "for a_, b_ in zip(a, b):\n",
        "    print(\"{}: {}%\".format(a_, b_*100))\n"
      ],
      "execution_count": 11,
      "outputs": [
        {
          "output_type": "stream",
          "text": [
            "red: 20.0%\n",
            "green: 30.0%\n",
            "blue: 10.0%\n",
            "purple: 40.0%\n"
          ],
          "name": "stdout"
        }
      ]
    },
    {
      "cell_type": "code",
      "metadata": {
        "id": "dD-ephD3SLAX",
        "colab": {
          "base_uri": "https://localhost:8080/"
        },
        "outputId": "5cec7e60-feb5-48a8-e035-1986350b7f59"
      },
      "source": [
        "a = 0\n",
        "if a == 0:\n",
        "    print(a)\n",
        "else:\n",
        "    print(a+1)"
      ],
      "execution_count": 12,
      "outputs": [
        {
          "output_type": "stream",
          "text": [
            "0\n"
          ],
          "name": "stdout"
        }
      ]
    },
    {
      "cell_type": "code",
      "metadata": {
        "id": "M0AZaDMvSLAY",
        "colab": {
          "base_uri": "https://localhost:8080/"
        },
        "outputId": "7ef9bf41-fe10-4a00-dc33-67a9aea9d733"
      },
      "source": [
        "for i in range(1, 3):\n",
        "    for j in range(3, 5):\n",
        "        print(i*j)"
      ],
      "execution_count": null,
      "outputs": [
        {
          "output_type": "stream",
          "text": [
            "3\n",
            "4\n",
            "6\n",
            "8\n"
          ],
          "name": "stdout"
        }
      ]
    },
    {
      "cell_type": "code",
      "metadata": {
        "id": "ZPpZmVIHSLAY",
        "colab": {
          "base_uri": "https://localhost:8080/"
        },
        "outputId": "36fb5dd0-0f29-42cc-9f1c-01bab9ce2222"
      },
      "source": [
        "for i in range(1, 3):\n",
        "    for j in range(3, 5):\n",
        "        if j >=4:\n",
        "            print(i*j)"
      ],
      "execution_count": null,
      "outputs": [
        {
          "output_type": "stream",
          "text": [
            "4\n",
            "8\n"
          ],
          "name": "stdout"
        }
      ]
    },
    {
      "cell_type": "code",
      "metadata": {
        "id": "JQXk5vi0SLAY",
        "colab": {
          "base_uri": "https://localhost:8080/"
        },
        "outputId": "5b7bf361-76ab-43c5-e52c-cbec65c7c12d"
      },
      "source": [
        "a = [1, 2, 3, 4]\n",
        "b = [i for i in a if i >=2]\n",
        "b"
      ],
      "execution_count": null,
      "outputs": [
        {
          "output_type": "execute_result",
          "data": {
            "text/plain": [
              "[2, 3, 4]"
            ]
          },
          "metadata": {
            "tags": []
          },
          "execution_count": 10
        }
      ]
    },
    {
      "cell_type": "code",
      "metadata": {
        "id": "MDmBGZ3LSLAZ",
        "colab": {
          "base_uri": "https://localhost:8080/"
        },
        "outputId": "e3c22559-771b-489a-f818-9fd479fbf1f8"
      },
      "source": [
        "a = ['red', 'green', 'blue', 'purple']\n",
        "b = [i for i in a if len(i) >=4]\n",
        "b"
      ],
      "execution_count": null,
      "outputs": [
        {
          "output_type": "execute_result",
          "data": {
            "text/plain": [
              "['green', 'blue', 'purple']"
            ]
          },
          "metadata": {
            "tags": []
          },
          "execution_count": 11
        }
      ]
    },
    {
      "cell_type": "code",
      "metadata": {
        "id": "myPb60JSJqA4"
      },
      "source": [
        ""
      ],
      "execution_count": null,
      "outputs": []
    }
  ]
}
