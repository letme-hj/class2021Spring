{
  "nbformat": 4,
  "nbformat_minor": 0,
  "metadata": {
    "colab": {
      "name": "20210426.ipynb",
      "provenance": [],
      "authorship_tag": "ABX9TyO4SykdrQlG85kp/0yGD6J9",
      "include_colab_link": true
    },
    "kernelspec": {
      "name": "python3",
      "display_name": "Python 3"
    },
    "language_info": {
      "name": "python"
    }
  },
  "cells": [
    {
      "cell_type": "markdown",
      "metadata": {
        "id": "view-in-github",
        "colab_type": "text"
      },
      "source": [
        "<a href=\"https://colab.research.google.com/github/letme-hj/class2021Spring/blob/main/20210426.ipynb\" target=\"_parent\"><img src=\"https://colab.research.google.com/assets/colab-badge.svg\" alt=\"Open In Colab\"/></a>"
      ]
    },
    {
      "cell_type": "code",
      "metadata": {
        "id": "w74uIzyGxwaS"
      },
      "source": [
        "%matplotlib inline\n",
        "from matplotlib import pyplot as plt\n",
        "import IPython.display as ipd\n",
        "import numpy as np\n",
        "from scipy.signal import lfilter"
      ],
      "execution_count": 1,
      "outputs": []
    },
    {
      "cell_type": "code",
      "metadata": {
        "id": "nztF-kAdxUB-"
      },
      "source": [
        "def phasor(amp, sr, dur, freq):\n",
        "  t = np.arange(1, sr*dur+1)/sr\n",
        "  theta = t*2*np.pi*freq\n",
        "  s = np.sin(theta)\n",
        "\n",
        "  # fig = plt.figure()\n",
        "  # ax = fig.add_subplot(111)\n",
        "  # ax.plot(t[0:1000], s[0:1000], '.')\n",
        "  # ax.set_xlabel('time (s)')\n",
        "  # ax.set_ylabel('real')\n",
        "\n",
        "  return s, theta, t"
      ],
      "execution_count": 5,
      "outputs": []
    },
    {
      "cell_type": "code",
      "metadata": {
        "colab": {
          "base_uri": "https://localhost:8080/",
          "height": 282
        },
        "id": "as00UCDgyViT",
        "outputId": "8f64da6c-d8e0-4fec-eae7-70c2e8f87cc7"
      },
      "source": [
        "s, theta, t = phasor(1, 10000, 0.5, 200.0)\n",
        "\n",
        "fig = plt.figure()\n",
        "ax = fig.add_subplot(111)\n",
        "ax.plot(t[:1000], s[:1000], '.')\n"
      ],
      "execution_count": 7,
      "outputs": [
        {
          "output_type": "execute_result",
          "data": {
            "text/plain": [
              "[<matplotlib.lines.Line2D at 0x7f8ef9111950>]"
            ]
          },
          "metadata": {
            "tags": []
          },
          "execution_count": 7
        },
        {
          "output_type": "display_data",
          "data": {
            "image/png": "[encoded data removed]",
            "text/plain": [
              "<Figure size 432x288 with 1 Axes>"
            ]
          },
          "metadata": {
            "tags": [],
            "needs_background": "light"
          }
        }
      ]
    },
    {
      "cell_type": "code",
      "metadata": {
        "colab": {
          "base_uri": "https://localhost:8080/",
          "height": 74
        },
        "id": "5JkE7zoZyaIY",
        "outputId": "15afebe7-cc50-4ef2-e70b-66d5428ceb23"
      },
      "source": [
        "ipd.Audio(s, rate=10000)"
      ],
      "execution_count": 9,
      "outputs": [
        {
          "output_type": "execute_result",
          "data": {
            "text/html": [
              "\n",
              "                <audio controls=\"controls\" >\n",
              "                    <source src=\"data:audio/wav;base64,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\" type=\"audio/wav\" />\n",
              "                    Your browser does not support the audio element.\n",
              "                </audio>\n",
              "              "
            ],
            "text/plain": [
              "<IPython.lib.display.Audio object>"
            ]
          },
          "metadata": {
            "tags": []
          },
          "execution_count": 9
        }
      ]
    },
    {
      "cell_type": "code",
      "metadata": {
        "id": "rvfmvYLqzEnJ"
      },
      "source": [
        ""
      ],
      "execution_count": null,
      "outputs": []
    }
  ]
}