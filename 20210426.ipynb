{
  "nbformat": 4,
  "nbformat_minor": 0,
  "metadata": {
    "colab": {
      "name": "20210426.ipynb",
      "provenance": [],
      "authorship_tag": "ABX9TyOyxs+PHErsVUnAdP03K13G",
      "include_colab_link": true
    },
    "kernelspec": {
      "name": "python3",
      "display_name": "Python 3"
    },
    "language_info": {
      "name": "python"
    }
  },
  "cells": [
    {
      "cell_type": "markdown",
      "metadata": {
        "id": "view-in-github",
        "colab_type": "text"
      },
      "source": [
        "<a href=\"https://colab.research.google.com/github/letme-hj/class2021Spring/blob/main/20210426.ipynb\" target=\"_parent\"><img src=\"https://colab.research.google.com/assets/colab-badge.svg\" alt=\"Open In Colab\"/></a>"
      ]
    },
    {
      "cell_type": "code",
      "metadata": {
        "id": "w74uIzyGxwaS"
      },
      "source": [
        "%matplotlib inline\n",
        "from matplotlib import pyplot as plt\n",
        "import IPython.display as ipd\n",
        "import numpy as np\n",
        "from scipy.signal import lfilter"
      ],
      "execution_count": 1,
      "outputs": []
    },
    {
      "cell_type": "code",
      "metadata": {
        "id": "nztF-kAdxUB-"
      },
      "source": [
        "def phasor(amp, sr, dur, freq):\n",
        "  t = np.arange(1, sr*dur+1)/sr\n",
        "  theta = t*2*np.pi*freq\n",
        "  s = np.sin(theta)\n",
        "\n",
        "  return s, theta, t"
      ],
      "execution_count": 2,
      "outputs": []
    }
  ]
}